{
 "cells": [
  {
   "cell_type": "markdown",
   "metadata": {},
   "source": [
    "## MC\n",
    "------------"
   ]
  },
  {
   "cell_type": "code",
   "execution_count": 1,
   "metadata": {},
   "outputs": [],
   "source": [
    "import numpy as np\n",
    "import pandas as pd\n",
    "from pandas_datareader import data as pdr\n",
    "import matplotlib.pyplot as plt\n",
    "import seaborn as sns\n",
    "from scipy.stats import norm\n",
    "import datetime as dt\n",
    "from stock_forecasting.config import PROCESSED_DATA_DIR"
   ]
  },
  {
   "cell_type": "markdown",
   "metadata": {},
   "source": [
    "---------------"
   ]
  },
  {
   "cell_type": "code",
   "execution_count": 5,
   "metadata": {},
   "outputs": [],
   "source": [
    "df = pdr.DataReader('^SPX', data_source='stooq', start='2010-1-1', end='2023-12-31')"
   ]
  },
  {
   "cell_type": "code",
   "execution_count": 10,
   "metadata": {},
   "outputs": [
    {
     "name": "stdout",
     "output_type": "stream",
     "text": [
      "Ticker\n",
      "HAL     0.000488\n",
      "K       0.000235\n",
      "IRM     0.000732\n",
      "HES     0.000624\n",
      "KEY     0.000660\n",
      "          ...   \n",
      "DLR     0.000604\n",
      "DD      0.000419\n",
      "SWK     0.000461\n",
      "MSFT    0.000940\n",
      "ROK     0.000787\n",
      "Length: 392, dtype: float64\n",
      "[4.29907687e-04 2.42859600e-05 3.99227483e-03 4.45963622e-03\n",
      " 2.23153802e-03 3.96503643e-03 2.98563020e-03 3.12772607e-03\n",
      " 4.51964529e-03 3.07299334e-03 7.41654886e-04 3.25195352e-03\n",
      " 7.52987985e-04 3.72721383e-03 2.57701062e-03 4.13210419e-03\n",
      " 3.09784910e-04 3.07587513e-03 2.88812138e-03 2.07636028e-03\n",
      " 2.59809397e-03 1.76411192e-03 2.16175377e-03 1.33602321e-03\n",
      " 2.68471031e-04 1.38029664e-03 3.77076233e-03 3.19705931e-03\n",
      " 4.67412394e-04 2.84228508e-03 7.76727386e-04 1.97251689e-04\n",
      " 9.21672390e-04 3.31801854e-04 2.74033710e-03 3.36295746e-03\n",
      " 5.73983054e-04 2.64037437e-04 1.31613237e-03 4.70386966e-03\n",
      " 3.66045628e-03 1.58476134e-03 2.50327507e-04 3.63851655e-04\n",
      " 1.51695935e-03 1.89318001e-03 2.94898706e-03 1.71959547e-04\n",
      " 2.17590617e-04 4.79907570e-03 8.13577901e-04 1.05374002e-03\n",
      " 1.86969106e-03 1.21240586e-03 2.79615273e-03 2.19546725e-03\n",
      " 4.44661709e-03 3.82890288e-03 2.10414457e-03 3.49662763e-03\n",
      " 1.99062598e-03 3.01983495e-03 4.61928353e-03 4.36697193e-03\n",
      " 1.57678058e-03 1.53486697e-03 3.54635232e-03 3.01985567e-03\n",
      " 9.63126873e-04 4.41557238e-03 2.15351662e-03 2.75638718e-03\n",
      " 2.01669214e-03 4.90544028e-03 3.04982242e-03 1.43882523e-03\n",
      " 3.53095971e-03 3.53469449e-03 2.73998625e-03 2.29984850e-03\n",
      " 4.12347316e-03 4.23468545e-03 4.26952221e-03 1.26757154e-03\n",
      " 4.45471009e-03 4.11279761e-03 5.02127100e-04 3.38918477e-03\n",
      " 6.79558829e-04 5.05971550e-04 1.23824208e-03 3.42588473e-03\n",
      " 1.06879425e-03 8.88132342e-04 3.47859948e-04 3.71102031e-04\n",
      " 2.35944078e-03 4.51942088e-03 3.46111806e-03 2.49226861e-03\n",
      " 4.44978236e-03 2.28546183e-03 2.99279629e-03 4.20410709e-03\n",
      " 4.00731896e-03 4.01976907e-03 1.46976329e-04 3.76854542e-03\n",
      " 3.25900393e-03 1.72321740e-04 1.47885867e-03 4.74169905e-03\n",
      " 3.33106887e-03 3.77334649e-03 1.19278198e-04 3.05332955e-03\n",
      " 4.86349405e-03 1.82697035e-03 1.67425838e-03 1.73667578e-03\n",
      " 4.29236925e-03 3.86477274e-03 1.40990828e-03 5.48425136e-04\n",
      " 3.69473678e-03 7.85309158e-04 1.56014219e-03 3.20090511e-03\n",
      " 3.41713800e-03 4.36383510e-03 4.38876188e-03 8.98436871e-04\n",
      " 1.09514571e-03 3.77931935e-03 1.63503727e-03 1.32592462e-03\n",
      " 5.59236811e-04 9.91817845e-04 3.24384340e-03 3.87195615e-03\n",
      " 1.36119939e-03 8.84658707e-04 3.30781929e-03 3.46422528e-03\n",
      " 2.44599835e-03 4.05480821e-04 4.62616751e-03 2.83934428e-03\n",
      " 1.94035649e-03 2.79455692e-04 2.95287597e-03 6.08096769e-04\n",
      " 2.01396792e-03 4.19637103e-03 9.61279937e-04 1.15566131e-04\n",
      " 2.15081545e-03 7.52895395e-04 1.70781161e-03 1.85999397e-03\n",
      " 4.25146118e-03 6.06228394e-04 3.26233860e-03 4.84651795e-03\n",
      " 3.05158373e-03 1.41733424e-03 3.54250515e-03 1.71799353e-03\n",
      " 2.67257909e-03 4.35527813e-03 2.38345840e-03 3.92958505e-03\n",
      " 2.87920665e-03 4.82252719e-04 4.58755929e-04 2.96749590e-03\n",
      " 4.41236942e-03 1.10561695e-03 3.42203039e-03 4.79367919e-03\n",
      " 2.74786910e-03 8.73844128e-05 2.50073496e-03 4.02808490e-03\n",
      " 1.60270741e-03 4.00690840e-03 2.49878300e-03 4.82633678e-03\n",
      " 3.14348202e-03 4.49444409e-03 1.55631723e-03 1.56591474e-03\n",
      " 3.42588722e-03 1.39940570e-03 6.03802251e-04 3.99246350e-03\n",
      " 4.01774225e-03 9.94654825e-04 1.74062941e-03 3.47558592e-03\n",
      " 1.85319990e-03 1.81211098e-03 4.35966049e-03 2.40605926e-03\n",
      " 4.68428786e-03 1.32012682e-03 3.72683642e-03 3.33631011e-04\n",
      " 1.78446044e-03 4.34650846e-03 1.31173733e-03 1.11165851e-03\n",
      " 3.36705602e-03 4.05882731e-03 2.86279348e-03 4.73832764e-03\n",
      " 4.13728164e-03 3.73308011e-03 4.22970794e-03 6.78523405e-04\n",
      " 8.16686217e-05 4.75253419e-03 2.13276497e-03 2.23117566e-03\n",
      " 1.42477936e-03 4.21598617e-03 1.93143115e-03 4.59895671e-03\n",
      " 2.66642665e-03 9.05038562e-04 9.14818478e-04 1.89846880e-03\n",
      " 1.87714366e-03 3.51349241e-03 2.53227656e-03 6.47236456e-04\n",
      " 1.23544665e-03 4.65587423e-03 3.09370898e-03 1.74869036e-03\n",
      " 3.64419489e-03 4.01651070e-04 1.14129801e-04 4.43556627e-03\n",
      " 2.77484309e-03 2.13225614e-03 1.62962994e-03 3.75761656e-03\n",
      " 7.76750262e-04 3.80496956e-03 1.18795951e-03 4.22136762e-03\n",
      " 3.10300136e-03 3.63097718e-05 1.93027436e-03 3.60834719e-03\n",
      " 2.97616045e-03 1.21221505e-03 5.14419903e-04 3.15698431e-03\n",
      " 5.27603894e-04 2.62105347e-03 3.62186399e-03 2.11991662e-03\n",
      " 4.81840431e-03 5.44259636e-05 3.55073425e-03 2.13960462e-03\n",
      " 4.53431987e-03 4.62566929e-03 3.73382702e-03 2.82538938e-03\n",
      " 4.11294681e-04 1.46066865e-03 2.92548001e-03 4.51060381e-03\n",
      " 2.90248487e-03 3.36816992e-03 1.05325066e-03 2.00137481e-05\n",
      " 1.90112414e-03 3.60310187e-03 7.93612784e-04 5.00317070e-04\n",
      " 1.89694908e-03 1.40268353e-03 4.08307445e-03 3.29333505e-03\n",
      " 1.59369173e-03 1.36248915e-03 3.94606955e-03 2.66175587e-04\n",
      " 1.89634621e-03 4.64125709e-03 1.22922131e-03 2.86442314e-04\n",
      " 4.43898561e-03 3.29273144e-03 1.58030844e-03 4.81066696e-03\n",
      " 2.57041471e-03 3.31192970e-03 3.90833354e-03 4.46142521e-03\n",
      " 1.42264088e-03 4.75070694e-03 2.93289078e-03 3.50766802e-03\n",
      " 2.60044178e-03 3.07276680e-03 1.49626152e-03 1.48443798e-03\n",
      " 4.86619797e-03 3.50772131e-03 3.06790831e-03 1.90631557e-03\n",
      " 2.92209721e-03 1.48532333e-03 2.36816802e-03 3.32915192e-03\n",
      " 5.84047516e-04 3.94513182e-03 4.72608756e-03 3.95814228e-03\n",
      " 4.43522762e-03 4.17050729e-03 4.10819181e-03 2.09442730e-03\n",
      " 3.21119261e-03 1.90741079e-04 1.20713133e-03 4.08859702e-03\n",
      " 4.50348354e-03 4.54399463e-03 4.48774709e-03 3.77933726e-03\n",
      " 1.80240149e-03 3.14487763e-03 4.59477698e-03 4.03014483e-03\n",
      " 4.72539067e-03 8.66292687e-04 9.26933875e-04 1.06495762e-03\n",
      " 2.22630896e-03 4.46151405e-03 1.23991793e-03 2.73545280e-03\n",
      " 4.16154488e-03 3.77645522e-03 3.78109808e-03 4.08545906e-03\n",
      " 1.24632510e-03 4.34911976e-03 3.75784048e-03 4.20474724e-03\n",
      " 4.58506355e-03 1.73817749e-03 2.96644191e-03 6.55379384e-04\n",
      " 3.09128603e-03 2.55314655e-03 2.23920106e-03 2.83311167e-03\n",
      " 2.50484563e-04 7.62949872e-04 2.03574800e-03 2.84602568e-03\n",
      " 3.05222553e-03 2.59245603e-03 7.08533983e-04 2.04811424e-03\n",
      " 4.65932352e-03 2.39286209e-03 3.17226033e-03 2.67128626e-03\n",
      " 4.59840369e-03 3.99152614e-03 1.13959954e-05 4.01126169e-03\n",
      " 7.52849622e-04 2.18882330e-03 5.16647442e-04 2.32360125e-03\n",
      " 4.56854858e-03 1.77666096e-03 4.86593283e-03 6.62731052e-04\n",
      " 2.14484202e-03 4.18927322e-03 2.00736064e-03 4.66547244e-03]\n"
     ]
    }
   ],
   "source": [
    "def get_data(stocks, start, end):\n",
    "    # stockData = pdr.get_data_yahoo(stocks, start=start, end=end)\n",
    "    # stockData = stockData['Close']\n",
    "    stockData = pd.read_pickle(PROCESSED_DATA_DIR / \"filtered.pkl\")\n",
    "    returns = stockData.xs(\"Close\", level=\"Price\", axis=1).pct_change()\n",
    "    meanReturns = returns.mean()\n",
    "    covMatrix = returns.cov()\n",
    "    return meanReturns, covMatrix\n",
    "\n",
    "stockList = ['CBA', 'BHP', 'TLS', 'NAB', 'WBC', 'STO']\n",
    "stocks = [stock + '.AX' for stock in stockList]\n",
    "endDate = dt.datetime.now()\n",
    "startDate = endDate - dt.timedelta(days = 300)\n",
    "\n",
    "\n",
    "meanReturns, covMatrix = get_data(stocks, startDate, endDate)\n",
    "\n",
    "print(meanReturns)\n",
    "\n",
    "#give random weights to portfolio\n",
    "weights = np.random.random(len(meanReturns))\n",
    "weights/=np.sum(weights)\n",
    "\n",
    "print(weights)\n",
    "\n"
   ]
  },
  {
   "cell_type": "code",
   "execution_count": 3,
   "metadata": {},
   "outputs": [
    {
     "ename": "NameError",
     "evalue": "name 'weights' is not defined",
     "output_type": "error",
     "traceback": [
      "\u001b[1;31m---------------------------------------------------------------------------\u001b[0m",
      "\u001b[1;31mNameError\u001b[0m                                 Traceback (most recent call last)",
      "Cell \u001b[1;32mIn[3], line 6\u001b[0m\n\u001b[0;32m      3\u001b[0m mc_simes \u001b[38;5;241m=\u001b[39m \u001b[38;5;241m100\u001b[39m\n\u001b[0;32m      4\u001b[0m T \u001b[38;5;241m=\u001b[39m \u001b[38;5;241m31\u001b[39m \u001b[38;5;66;03m#days\u001b[39;00m\n\u001b[1;32m----> 6\u001b[0m meanM \u001b[38;5;241m=\u001b[39m np\u001b[38;5;241m.\u001b[39mfull(shape\u001b[38;5;241m=\u001b[39m(T, \u001b[38;5;28mlen\u001b[39m(weights)), fill_value\u001b[38;5;241m=\u001b[39mmeanReturns)\n\u001b[0;32m      7\u001b[0m meanM \u001b[38;5;241m=\u001b[39m meanM\u001b[38;5;241m.\u001b[39mT \u001b[38;5;66;03m#transpose\u001b[39;00m\n\u001b[0;32m      9\u001b[0m portfolio_sins \u001b[38;5;241m=\u001b[39m np\u001b[38;5;241m.\u001b[39mfull(shape\u001b[38;5;241m=\u001b[39m(T, mc_simes), fill_value\u001b[38;5;241m=\u001b[39m\u001b[38;5;241m0.0\u001b[39m)\n",
      "\u001b[1;31mNameError\u001b[0m: name 'weights' is not defined"
     ]
    }
   ],
   "source": [
    "#MC simulater\n",
    "#nº of simulations\n",
    "mc_simes = 100\n",
    "T = 31 #days\n",
    "\n",
    "meanM = np.full(shape=(T, len(weights)), fill_value=meanReturns)\n",
    "meanM = meanM.T #transpose\n",
    "\n",
    "portfolio_sins = np.full(shape=(T, mc_simes), fill_value=0.0)\n",
    "\n",
    "initialPortfolio = 10000 #started with initialPortfolio money\n",
    "\n",
    "for m in range(0, mc_simes):\n",
    "    #mc loops\n",
    "    Z = np.random.normal(size=(T, len(weights))) #T com o nº de stocks\n",
    "    L = np.linalg.cholesky(covMatrix) #lower triangle // nº of stocks by the n of stocks \n",
    "\n",
    "    dailyReturns = meanM + np.inner(L, Z)\n",
    "    portfolio_sins[:, m] = np.cumprod(np.inner(weights, dailyReturns.T)+1)*initialPortfolio\n",
    "\n",
    "plt.plot(portfolio_sins)\n",
    "plt.ylabel('Portfolio value ($)')\n",
    "plt.xlabel('Days')\n",
    "plt.title('MC simulation of a stock portfolio')\n",
    "plt.show()\n"
   ]
  },
  {
   "cell_type": "code",
   "execution_count": null,
   "metadata": {},
   "outputs": [],
   "source": [
    "#value of risk and conditional value of risk\n",
    "\n",
    "def mcVar(returns, alpha = 5):\n",
    "    ''' \n",
    "    input: pandas series of returns \n",
    "    output: percentile on return distribution to a given confidence level alpha\n",
    "    '''\n",
    "\n",
    "    if isinstance(returns, pd.Series):\n",
    "        return np.percentile(returns, alpha)\n",
    "    else:\n",
    "        raise TypeError(\"Expected a pandas data series.\")\n",
    "\n",
    "\n",
    "def mcCVar(returns, alpha = 5):\n",
    "    ''' \n",
    "    input: pandas series of returns \n",
    "    output: CVar or Expected Shortfall to a given confidence level alpha\n",
    "    '''\n",
    "\n",
    "    if isinstance(returns, pd.Series):\n",
    "        belowVar = returns <= mcVar(returns, alpha=alpha)\n",
    "        return returns[belowVar].mean()\n",
    "    else:\n",
    "        raise TypeError(\"Expected a pandas data series.\")\n",
    "    \n",
    "\n",
    "portResults = pd.Series(portfolio_sins[-1,:])\n",
    "\n",
    "VaR = initialPortfolio - mcVar(portResults, alpha=5)\n",
    "CVaR = initialPortfolio - mcCVar(portResults, alpha=5)\n",
    "\n",
    "print(f'Var ${format(round(VaR, 2))}')  #limite (o valor esperado a perder quando fazer inicial - variancia)\n",
    "print(f'Var ${format(round(CVaR, 2))}') #risco conditional risc (para baixo do valor obtido em cima)"
   ]
  },
  {
   "cell_type": "markdown",
   "metadata": {},
   "source": [
    "> next part is an example"
   ]
  },
  {
   "cell_type": "code",
   "execution_count": 4,
   "metadata": {},
   "outputs": [],
   "source": [
    "# functions from the pandas library to record historical index prices from the Stooq platform; the start \n",
    "df = wb.DataReader('^SPX', data_source='stooq', start='2010-1-1', end='2021-3-11')"
   ]
  },
  {
   "cell_type": "code",
   "execution_count": 5,
   "metadata": {},
   "outputs": [],
   "source": [
    "# calculation of logarithmic rates of return, average rate of return and standard deviation and drift\n",
    "logarithmic_returns = np.log(1 + df['Close'].pct_change())\n",
    "mu_r = logarithmic_returns.mean()\n",
    "std_r = logarithmic_returns.std()\n",
    "drift = mu_r - 0.5*(std_r**2)\n",
    "wyniki = []"
   ]
  },
  {
   "cell_type": "code",
   "execution_count": null,
   "metadata": {},
   "outputs": [
    {
     "name": "stderr",
     "output_type": "stream",
     "text": [
      "C:\\Users\\Daniela\\AppData\\Local\\Temp\\ipykernel_14472\\2799356803.py:4: FutureWarning: Series.__getitem__ treating keys as positions is deprecated. In a future version, integer keys will always be treated as labels (consistent with DataFrame behavior). To access a value by position, use `ser.iloc[pos]`\n",
      "  list_prices = [df['Close'][0]]\n"
     ]
    },
    {
     "ename": "KeyboardInterrupt",
     "evalue": "",
     "output_type": "error",
     "traceback": [
      "\u001b[1;31m---------------------------------------------------------------------------\u001b[0m",
      "\u001b[1;31mKeyboardInterrupt\u001b[0m                         Traceback (most recent call last)",
      "Cell \u001b[1;32mIn[8], line 3\u001b[0m\n\u001b[0;32m      1\u001b[0m \u001b[38;5;66;03m# function that generates 20,000 rates of return consecutive trading days according to Monte Carlo simulation\u001b[39;00m\n\u001b[0;32m      2\u001b[0m \u001b[38;5;28;01mfor\u001b[39;00m i \u001b[38;5;129;01min\u001b[39;00m \u001b[38;5;28mrange\u001b[39m(\u001b[38;5;241m20000\u001b[39m):\n\u001b[1;32m----> 3\u001b[0m     d_returns \u001b[38;5;241m=\u001b[39m np\u001b[38;5;241m.\u001b[39mexp(drift \u001b[38;5;241m+\u001b[39m std_r \u001b[38;5;241m*\u001b[39m norm\u001b[38;5;241m.\u001b[39mppf(np\u001b[38;5;241m.\u001b[39mrandom\u001b[38;5;241m.\u001b[39mrand(\u001b[38;5;241m252\u001b[39m)))\n\u001b[0;32m      4\u001b[0m     list_prices \u001b[38;5;241m=\u001b[39m [df[\u001b[38;5;124m'\u001b[39m\u001b[38;5;124mClose\u001b[39m\u001b[38;5;124m'\u001b[39m][\u001b[38;5;241m0\u001b[39m]]\n\u001b[0;32m      5\u001b[0m     \u001b[38;5;66;03m# function that calculates the new price after taking into account the generated rate of return from the simulation\u001b[39;00m\n",
      "File \u001b[1;32mc:\\Users\\Daniela\\Documents\\Fisc\\envs\\base2\\Lib\\site-packages\\scipy\\stats\\_distn_infrastructure.py:2244\u001b[0m, in \u001b[0;36mrv_continuous.ppf\u001b[1;34m(self, q, *args, **kwds)\u001b[0m\n\u001b[0;32m   2242\u001b[0m cond3 \u001b[38;5;241m=\u001b[39m cond0 \u001b[38;5;241m&\u001b[39m (q \u001b[38;5;241m==\u001b[39m \u001b[38;5;241m1\u001b[39m)\n\u001b[0;32m   2243\u001b[0m cond \u001b[38;5;241m=\u001b[39m cond0 \u001b[38;5;241m&\u001b[39m cond1\n\u001b[1;32m-> 2244\u001b[0m output \u001b[38;5;241m=\u001b[39m np\u001b[38;5;241m.\u001b[39mfull(shape(cond), fill_value\u001b[38;5;241m=\u001b[39m\u001b[38;5;28mself\u001b[39m\u001b[38;5;241m.\u001b[39mbadvalue)\n\u001b[0;32m   2246\u001b[0m lower_bound \u001b[38;5;241m=\u001b[39m _a \u001b[38;5;241m*\u001b[39m scale \u001b[38;5;241m+\u001b[39m loc\n\u001b[0;32m   2247\u001b[0m upper_bound \u001b[38;5;241m=\u001b[39m _b \u001b[38;5;241m*\u001b[39m scale \u001b[38;5;241m+\u001b[39m loc\n",
      "File \u001b[1;32mc:\\Users\\Daniela\\Documents\\Fisc\\envs\\base2\\Lib\\site-packages\\numpy\\core\\fromnumeric.py:1976\u001b[0m, in \u001b[0;36m_shape_dispatcher\u001b[1;34m(a)\u001b[0m\n\u001b[0;32m   1883\u001b[0m \u001b[38;5;250m    \u001b[39m\u001b[38;5;124;03m\"\"\"\u001b[39;00m\n\u001b[0;32m   1884\u001b[0m \u001b[38;5;124;03m    Return the indices of the elements that are non-zero.\u001b[39;00m\n\u001b[0;32m   1885\u001b[0m \n\u001b[1;32m   (...)\u001b[0m\n\u001b[0;32m   1971\u001b[0m \n\u001b[0;32m   1972\u001b[0m \u001b[38;5;124;03m    \"\"\"\u001b[39;00m\n\u001b[0;32m   1973\u001b[0m     \u001b[38;5;28;01mreturn\u001b[39;00m _wrapfunc(a, \u001b[38;5;124m'\u001b[39m\u001b[38;5;124mnonzero\u001b[39m\u001b[38;5;124m'\u001b[39m)\n\u001b[1;32m-> 1976\u001b[0m \u001b[38;5;28;01mdef\u001b[39;00m \u001b[38;5;21m_shape_dispatcher\u001b[39m(a):\n\u001b[0;32m   1977\u001b[0m     \u001b[38;5;28;01mreturn\u001b[39;00m (a,)\n\u001b[0;32m   1980\u001b[0m \u001b[38;5;129m@array_function_dispatch\u001b[39m(_shape_dispatcher)\n\u001b[0;32m   1981\u001b[0m \u001b[38;5;28;01mdef\u001b[39;00m \u001b[38;5;21mshape\u001b[39m(a):\n",
      "\u001b[1;31mKeyboardInterrupt\u001b[0m: "
     ]
    }
   ],
   "source": [
    "# function that generates 20,000 rates of return consecutive trading days according to Monte Carlo simulation\n",
    "for i in range(20000):\n",
    "    d_returns = np.exp(drift + std_r * norm.ppf(np.random.rand(252)))\n",
    "    list_prices = [df['Close'][0]]\n",
    "    # function that calculates the new price after taking into account the generated rate of return from the simulation\n",
    "    for x in d_returns:\n",
    "        list_prices.append(list_prices[-1]*x)\n",
    "    plt.plot(list_prices)\n",
    "    wyniki.append(list_prices)\n",
    "    lista=[]\n",
    "    # A loop that adds the results to the time series to be visualized\n",
    "    for z in results:\n",
    "        lista.append(z[-1])"
   ]
  },
  {
   "cell_type": "markdown",
   "metadata": {},
   "source": [
    "-----"
   ]
  },
  {
   "cell_type": "code",
   "execution_count": null,
   "metadata": {},
   "outputs": [],
   "source": [
    "\"\"\"\n",
    "Compute the logarithmic returns of Google stock\n",
    "\"\"\"\n",
    "log_return = np.log(1 + data.pct_change())\n",
    "#Plot\n",
    "sns.distplot(log_returns.iloc[1:])\n",
    "plt.xlabel(\"Daily Return\")\n",
    "plt.ylabel(\"Frequency\")\n",
    "\n",
    "logarithmic_returns = np.log(1 + df['Close'].pct_change())\n",
    "mu_r = logarithmic_returns.mean()\n",
    "std_r = logarithmic_returns.std()\n",
    "drift = mu_r - 0.5*(std_r**2)"
   ]
  },
  {
   "cell_type": "code",
   "execution_count": null,
   "metadata": {},
   "outputs": [],
   "source": [
    "#compute drift\n",
    "u = log_returns.mean()\n",
    "var = log_returns.var()\n",
    "drift = u - (0.5*var)"
   ]
  },
  {
   "cell_type": "code",
   "execution_count": null,
   "metadata": {},
   "outputs": [],
   "source": [
    "'''\n",
    "Compute the Variance and Daily Returns\n",
    "In this step we have to generate random variables for every day \n",
    "forecasted and for every simulation trial we will run\n",
    "\n",
    "31 dias->Janeiro(valor de previsão final) \n",
    "'''\n",
    "stdev = log_returns.std()\n",
    "days = 31\n",
    "trials = 10000\n",
    "Z = norm.ppf(np.random.rand(days, trials)) #days, trials\n",
    "daily_returns = np.exp(drift.values + stdev.values * Z)"
   ]
  },
  {
   "cell_type": "code",
   "execution_count": null,
   "metadata": {},
   "outputs": [],
   "source": [
    "''' \n",
    "Calculating the stock price for every trial\n",
    "'''\n",
    "price_paths = np.zeros_like(daily_returns)\n",
    "price_paths[0] = data.iloc[-1]\n",
    "for t in range(1, days):\n",
    "    price_paths[t] = price_paths[t-1]*daily_returns[t]\n",
    "\n",
    "''' \n",
    "With the price_paths matrix, now you can calculate the probability of profitability, \n",
    "or the expected annualized returm, for example. \n",
    "'''"
   ]
  },
  {
   "cell_type": "code",
   "execution_count": null,
   "metadata": {},
   "outputs": [],
   "source": [
    "#fazer func\n",
    "def MC(df, predict_date:31, n_diff_predicts):\n",
    "    #P1 -> Create simulations to explore a variety of portfolio allocations\n",
    "    #get returns of stocks\n",
    "    #fazer log\n",
    "    log_returns = np.log(1 + df['Close'].pct_change())\n",
    "    #obter mean and var\n",
    "    u = log_returns.mean()\n",
    "    var = log_returns.var()\n",
    "    drift = u - (0.5*var)\n",
    "\n",
    "    #deviation between the two, try to understand\n",
    "\n",
    "    #P2 -> identify the one that optimizes your objective (e.g., maximize return, minimize risk, or optimize the Sharpe ratio)\n",
    "    \n",
    "\n",
    "\n",
    "    ..."
   ]
  },
  {
   "cell_type": "markdown",
   "metadata": {},
   "source": [
    "------------\n",
    "Automating the Monte Carlo Simulations and Showing CAPM Metrics\n",
    "------------"
   ]
  },
  {
   "cell_type": "code",
   "execution_count": null,
   "metadata": {},
   "outputs": [],
   "source": []
  },
  {
   "cell_type": "markdown",
   "metadata": {},
   "source": [
    "----------\n",
    "References\n",
    "\n",
    "> https://medium.com/analytics-vidhya/monte-carlo-simulations-for-predicting-stock-prices-python-a64f53585662\n",
    "> https://journals.ue.wroc.pl/fins/article/download/138/7/458\n",
    ">https://youtu.be/f9MAFvP5-pA"
   ]
  },
  {
   "cell_type": "markdown",
   "metadata": {},
   "source": []
  }
 ],
 "metadata": {
  "kernelspec": {
   "display_name": "base2",
   "language": "python",
   "name": "python3"
  },
  "language_info": {
   "codemirror_mode": {
    "name": "ipython",
    "version": 3
   },
   "file_extension": ".py",
   "mimetype": "text/x-python",
   "name": "python",
   "nbconvert_exporter": "python",
   "pygments_lexer": "ipython3",
   "version": "3.12.3"
  }
 },
 "nbformat": 4,
 "nbformat_minor": 2
}
