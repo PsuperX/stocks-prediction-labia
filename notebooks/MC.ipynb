{
 "cells": [
  {
   "cell_type": "markdown",
   "metadata": {},
   "source": [
    "## MC\n",
    "------------"
   ]
  },
  {
   "cell_type": "code",
   "execution_count": 1,
   "metadata": {},
   "outputs": [],
   "source": [
    "import numpy as np\n",
    "import pandas as pd\n",
    "from pandas_datareader import data as wb\n",
    "import matplotlib.pyplot as plt\n",
    "import seaborn as sns\n",
    "from scipy.stats import norm"
   ]
  },
  {
   "cell_type": "markdown",
   "metadata": {},
   "source": [
    "> next part is an example"
   ]
  },
  {
   "cell_type": "code",
   "execution_count": 4,
   "metadata": {},
   "outputs": [],
   "source": [
    "# functions from the pandas library to record historical index prices from the Stooq platform; the start \n",
    "df = wb.DataReader('^SPX', data_source='stooq', start='2010-1-1', end='2021-3-11')"
   ]
  },
  {
   "cell_type": "code",
   "execution_count": 5,
   "metadata": {},
   "outputs": [],
   "source": [
    "# calculation of logarithmic rates of return, average rate of return and standard deviation and drift\n",
    "logarithmic_returns = np.log(1 + df['Close'].pct_change())\n",
    "mu_r = logarithmic_returns.mean()\n",
    "std_r = logarithmic_returns.std()\n",
    "drift = mu_r - 0.5*(std_r**2)\n",
    "wyniki = []"
   ]
  },
  {
   "cell_type": "code",
   "execution_count": null,
   "metadata": {},
   "outputs": [
    {
     "name": "stderr",
     "output_type": "stream",
     "text": [
      "C:\\Users\\Daniela\\AppData\\Local\\Temp\\ipykernel_14472\\2799356803.py:4: FutureWarning: Series.__getitem__ treating keys as positions is deprecated. In a future version, integer keys will always be treated as labels (consistent with DataFrame behavior). To access a value by position, use `ser.iloc[pos]`\n",
      "  list_prices = [df['Close'][0]]\n"
     ]
    },
    {
     "ename": "KeyboardInterrupt",
     "evalue": "",
     "output_type": "error",
     "traceback": [
      "\u001b[1;31m---------------------------------------------------------------------------\u001b[0m",
      "\u001b[1;31mKeyboardInterrupt\u001b[0m                         Traceback (most recent call last)",
      "Cell \u001b[1;32mIn[8], line 3\u001b[0m\n\u001b[0;32m      1\u001b[0m \u001b[38;5;66;03m# function that generates 20,000 rates of return consecutive trading days according to Monte Carlo simulation\u001b[39;00m\n\u001b[0;32m      2\u001b[0m \u001b[38;5;28;01mfor\u001b[39;00m i \u001b[38;5;129;01min\u001b[39;00m \u001b[38;5;28mrange\u001b[39m(\u001b[38;5;241m20000\u001b[39m):\n\u001b[1;32m----> 3\u001b[0m     d_returns \u001b[38;5;241m=\u001b[39m np\u001b[38;5;241m.\u001b[39mexp(drift \u001b[38;5;241m+\u001b[39m std_r \u001b[38;5;241m*\u001b[39m norm\u001b[38;5;241m.\u001b[39mppf(np\u001b[38;5;241m.\u001b[39mrandom\u001b[38;5;241m.\u001b[39mrand(\u001b[38;5;241m252\u001b[39m)))\n\u001b[0;32m      4\u001b[0m     list_prices \u001b[38;5;241m=\u001b[39m [df[\u001b[38;5;124m'\u001b[39m\u001b[38;5;124mClose\u001b[39m\u001b[38;5;124m'\u001b[39m][\u001b[38;5;241m0\u001b[39m]]\n\u001b[0;32m      5\u001b[0m     \u001b[38;5;66;03m# function that calculates the new price after taking into account the generated rate of return from the simulation\u001b[39;00m\n",
      "File \u001b[1;32mc:\\Users\\Daniela\\Documents\\Fisc\\envs\\base2\\Lib\\site-packages\\scipy\\stats\\_distn_infrastructure.py:2244\u001b[0m, in \u001b[0;36mrv_continuous.ppf\u001b[1;34m(self, q, *args, **kwds)\u001b[0m\n\u001b[0;32m   2242\u001b[0m cond3 \u001b[38;5;241m=\u001b[39m cond0 \u001b[38;5;241m&\u001b[39m (q \u001b[38;5;241m==\u001b[39m \u001b[38;5;241m1\u001b[39m)\n\u001b[0;32m   2243\u001b[0m cond \u001b[38;5;241m=\u001b[39m cond0 \u001b[38;5;241m&\u001b[39m cond1\n\u001b[1;32m-> 2244\u001b[0m output \u001b[38;5;241m=\u001b[39m np\u001b[38;5;241m.\u001b[39mfull(shape(cond), fill_value\u001b[38;5;241m=\u001b[39m\u001b[38;5;28mself\u001b[39m\u001b[38;5;241m.\u001b[39mbadvalue)\n\u001b[0;32m   2246\u001b[0m lower_bound \u001b[38;5;241m=\u001b[39m _a \u001b[38;5;241m*\u001b[39m scale \u001b[38;5;241m+\u001b[39m loc\n\u001b[0;32m   2247\u001b[0m upper_bound \u001b[38;5;241m=\u001b[39m _b \u001b[38;5;241m*\u001b[39m scale \u001b[38;5;241m+\u001b[39m loc\n",
      "File \u001b[1;32mc:\\Users\\Daniela\\Documents\\Fisc\\envs\\base2\\Lib\\site-packages\\numpy\\core\\fromnumeric.py:1976\u001b[0m, in \u001b[0;36m_shape_dispatcher\u001b[1;34m(a)\u001b[0m\n\u001b[0;32m   1883\u001b[0m \u001b[38;5;250m    \u001b[39m\u001b[38;5;124;03m\"\"\"\u001b[39;00m\n\u001b[0;32m   1884\u001b[0m \u001b[38;5;124;03m    Return the indices of the elements that are non-zero.\u001b[39;00m\n\u001b[0;32m   1885\u001b[0m \n\u001b[1;32m   (...)\u001b[0m\n\u001b[0;32m   1971\u001b[0m \n\u001b[0;32m   1972\u001b[0m \u001b[38;5;124;03m    \"\"\"\u001b[39;00m\n\u001b[0;32m   1973\u001b[0m     \u001b[38;5;28;01mreturn\u001b[39;00m _wrapfunc(a, \u001b[38;5;124m'\u001b[39m\u001b[38;5;124mnonzero\u001b[39m\u001b[38;5;124m'\u001b[39m)\n\u001b[1;32m-> 1976\u001b[0m \u001b[38;5;28;01mdef\u001b[39;00m \u001b[38;5;21m_shape_dispatcher\u001b[39m(a):\n\u001b[0;32m   1977\u001b[0m     \u001b[38;5;28;01mreturn\u001b[39;00m (a,)\n\u001b[0;32m   1980\u001b[0m \u001b[38;5;129m@array_function_dispatch\u001b[39m(_shape_dispatcher)\n\u001b[0;32m   1981\u001b[0m \u001b[38;5;28;01mdef\u001b[39;00m \u001b[38;5;21mshape\u001b[39m(a):\n",
      "\u001b[1;31mKeyboardInterrupt\u001b[0m: "
     ]
    }
   ],
   "source": [
    "# function that generates 20,000 rates of return consecutive trading days according to Monte Carlo simulation\n",
    "for i in range(20000):\n",
    "    d_returns = np.exp(drift + std_r * norm.ppf(np.random.rand(252)))\n",
    "    list_prices = [df['Close'][0]]\n",
    "    # function that calculates the new price after taking into account the generated rate of return from the simulation\n",
    "    for x in d_returns:\n",
    "        list_prices.append(list_prices[-1]*x)\n",
    "    plt.plot(list_prices)\n",
    "    wyniki.append(list_prices)\n",
    "    lista=[]\n",
    "    # A loop that adds the results to the time series to be visualized\n",
    "    for z in results:\n",
    "        lista.append(z[-1])"
   ]
  },
  {
   "cell_type": "markdown",
   "metadata": {},
   "source": [
    "-----"
   ]
  },
  {
   "cell_type": "code",
   "execution_count": null,
   "metadata": {},
   "outputs": [],
   "source": [
    "\"\"\"\n",
    "Compute the logarithmic returns of Google stock\n",
    "\"\"\"\n",
    "log_return = np.log(1 + data.pct_change())\n",
    "#Plot\n",
    "sns.distplot(log_returns.iloc[1:])\n",
    "plt.xlabel(\"Daily Return\")\n",
    "plt.ylabel(\"Frequency\")\n",
    "\n",
    "logarithmic_returns = np.log(1 + df['Close'].pct_change())\n",
    "mu_r = logarithmic_returns.mean()\n",
    "std_r = logarithmic_returns.std()\n",
    "drift = mu_r - 0.5*(std_r**2)"
   ]
  },
  {
   "cell_type": "code",
   "execution_count": null,
   "metadata": {},
   "outputs": [],
   "source": [
    "#compute drift\n",
    "u = log_returns.mean()\n",
    "var = log_returns.var()\n",
    "drift = u - (0.5*var)"
   ]
  },
  {
   "cell_type": "code",
   "execution_count": null,
   "metadata": {},
   "outputs": [],
   "source": [
    "'''\n",
    "Compute the Variance and Daily Returns\n",
    "In this step we have to generate random variables for every day \n",
    "forecasted and for every simulation trial we will run\n",
    "\n",
    "31 dias->Janeiro(valor de previsão final) \n",
    "'''\n",
    "stdev = log_returns.std()\n",
    "days = 31\n",
    "trials = 10000\n",
    "Z = norm.ppf(np.random.rand(days, trials)) #days, trials\n",
    "daily_returns = np.exp(drift.values + stdev.values * Z)"
   ]
  },
  {
   "cell_type": "code",
   "execution_count": null,
   "metadata": {},
   "outputs": [],
   "source": [
    "''' \n",
    "Calculating the stock price for every trial\n",
    "'''\n",
    "price_paths = np.zeros_like(daily_returns)\n",
    "price_paths[0] = data.iloc[-1]\n",
    "for t in range(1, days):\n",
    "    price_paths[t] = price_paths[t-1]*daily_returns[t]\n",
    "\n",
    "''' \n",
    "With the price_paths matrix, now you can calculate the probability of profitability, \n",
    "or the expected annualized returm, for example. \n",
    "'''"
   ]
  },
  {
   "cell_type": "code",
   "execution_count": null,
   "metadata": {},
   "outputs": [],
   "source": [
    "#fazer func\n",
    "def MC(df, predict_date:31, n_diff_predicts):\n",
    "    #P1 -> Create simulations to explore a variety of portfolio allocations\n",
    "    #get returns of stocks\n",
    "    #fazer log\n",
    "    log_returns = np.log(1 + df['Close'].pct_change())\n",
    "    #obter mean and var\n",
    "    u = log_returns.mean()\n",
    "    var = log_returns.var()\n",
    "    drift = u - (0.5*var)\n",
    "\n",
    "    #deviation between the two, try to understand\n",
    "\n",
    "    #P2 -> identify the one that optimizes your objective (e.g., maximize return, minimize risk, or optimize the Sharpe ratio)\n",
    "    \n",
    "\n",
    "\n",
    "    ..."
   ]
  },
  {
   "cell_type": "markdown",
   "metadata": {},
   "source": [
    "------------\n",
    "Automating the Monte Carlo Simulations and Showing CAPM Metrics\n",
    "------------"
   ]
  },
  {
   "cell_type": "code",
   "execution_count": null,
   "metadata": {},
   "outputs": [],
   "source": []
  },
  {
   "cell_type": "markdown",
   "metadata": {},
   "source": [
    "----------\n",
    "References\n",
    "\n",
    "> https://medium.com/analytics-vidhya/monte-carlo-simulations-for-predicting-stock-prices-python-a64f53585662\n",
    "> https://journals.ue.wroc.pl/fins/article/download/138/7/458"
   ]
  }
 ],
 "metadata": {
  "kernelspec": {
   "display_name": "base2",
   "language": "python",
   "name": "python3"
  },
  "language_info": {
   "codemirror_mode": {
    "name": "ipython",
    "version": 3
   },
   "file_extension": ".py",
   "mimetype": "text/x-python",
   "name": "python",
   "nbconvert_exporter": "python",
   "pygments_lexer": "ipython3",
   "version": "3.12.3"
  }
 },
 "nbformat": 4,
 "nbformat_minor": 2
}
