{
 "cells": [
  {
   "cell_type": "code",
   "execution_count": 1,
   "metadata": {},
   "outputs": [
    {
     "name": "stdout",
     "output_type": "stream",
     "text": [
      "Requirement already satisfied: tqdm in /home/psuper/Documents/Escola/Universidade/3º Ano/1_sem/lab_ia/trab2/.venv/lib/python3.10/site-packages (4.67.0)\n",
      "Requirement already satisfied: loguru in /home/psuper/Documents/Escola/Universidade/3º Ano/1_sem/lab_ia/trab2/.venv/lib/python3.10/site-packages (0.7.2)\n",
      "Requirement already satisfied: python-dotenv in /home/psuper/Documents/Escola/Universidade/3º Ano/1_sem/lab_ia/trab2/.venv/lib/python3.10/site-packages (1.0.1)\n",
      "Requirement already satisfied: typer in /home/psuper/Documents/Escola/Universidade/3º Ano/1_sem/lab_ia/trab2/.venv/lib/python3.10/site-packages (0.13.0)\n",
      "Requirement already satisfied: click>=8.0.0 in /home/psuper/Documents/Escola/Universidade/3º Ano/1_sem/lab_ia/trab2/.venv/lib/python3.10/site-packages (from typer) (8.1.7)\n",
      "Requirement already satisfied: shellingham>=1.3.0 in /home/psuper/Documents/Escola/Universidade/3º Ano/1_sem/lab_ia/trab2/.venv/lib/python3.10/site-packages (from typer) (1.5.4)\n",
      "Requirement already satisfied: rich>=10.11.0 in /home/psuper/Documents/Escola/Universidade/3º Ano/1_sem/lab_ia/trab2/.venv/lib/python3.10/site-packages (from typer) (13.9.4)\n",
      "Requirement already satisfied: typing-extensions>=3.7.4.3 in /home/psuper/Documents/Escola/Universidade/3º Ano/1_sem/lab_ia/trab2/.venv/lib/python3.10/site-packages (from typer) (4.12.2)\n",
      "Requirement already satisfied: pygments<3.0.0,>=2.13.0 in /home/psuper/Documents/Escola/Universidade/3º Ano/1_sem/lab_ia/trab2/.venv/lib/python3.10/site-packages (from rich>=10.11.0->typer) (2.18.0)\n",
      "Requirement already satisfied: markdown-it-py>=2.2.0 in /home/psuper/Documents/Escola/Universidade/3º Ano/1_sem/lab_ia/trab2/.venv/lib/python3.10/site-packages (from rich>=10.11.0->typer) (3.0.0)\n",
      "Requirement already satisfied: mdurl~=0.1 in /home/psuper/Documents/Escola/Universidade/3º Ano/1_sem/lab_ia/trab2/.venv/lib/python3.10/site-packages (from markdown-it-py>=2.2.0->rich>=10.11.0->typer) (0.1.2)\n",
      "Note: you may need to restart the kernel to use updated packages.\n"
     ]
    }
   ],
   "source": [
    "%pip install tqdm loguru python-dotenv typer"
   ]
  },
  {
   "cell_type": "code",
   "execution_count": null,
   "metadata": {},
   "outputs": [],
   "source": [
    "%load_ext autoreload\n",
    "%autoreload 2"
   ]
  },
  {
   "cell_type": "code",
   "execution_count": 2,
   "metadata": {},
   "outputs": [],
   "source": [
    "import yfinance as yf # https://aroussi.com/post/python-yahoo-finance\n",
    "from pathlib import Path"
   ]
  },
  {
   "cell_type": "code",
   "execution_count": 3,
   "metadata": {},
   "outputs": [],
   "source": [
    "CONFIG = {\n",
    "    \"indices\": [\n",
    "        \"000300.SS\", # CSI_300\n",
    "        \"^NSEI\", # Nifty_50\n",
    "        \"^HSI\" , # Hang Seng index\n",
    "        \"^N225\", # Nikkei_225\n",
    "        \"^GSPC\", # S&P500\n",
    "        \"DJIA\",\n",
    "    ],\n",
    "}\n",
    "\n",
    "DATA_PATH = Path(\"data\")\n",
    "INITIAL_DATA_PATH = DATA_PATH/\"raw\"\n",
    "FINAL_DATA_PATH = DATA_PATH/\"processed\""
   ]
  },
  {
   "cell_type": "code",
   "execution_count": 9,
   "metadata": {},
   "outputs": [],
   "source": [
    "CONFIG = {\n",
    "    \"indices\": [\n",
    "        \"^GSPC\", # S&P500\n",
    "    ],\n",
    "}\n",
    "\n",
    "DATA_PATH = Path(\"data\")\n",
    "INITIAL_DATA_PATH = DATA_PATH/\"raw\"\n",
    "FINAL_DATA_PATH = DATA_PATH/\"processed\""
   ]
  },
  {
   "cell_type": "code",
   "execution_count": 10,
   "metadata": {},
   "outputs": [
    {
     "name": "stderr",
     "output_type": "stream",
     "text": [
      "[*********************100%***********************]  1 of 1 completed\n"
     ]
    }
   ],
   "source": [
    "data = yf.download(\" \".join(CONFIG[\"indices\"]), start=\"2010-01-01\", end=\"2024-01-31\", group_by=\"ticker\", auto_adjust=True, repair=True)\n",
    "data.to_pickle(\"raw.pkl\")"
   ]
  },
  {
   "cell_type": "code",
   "execution_count": 12,
   "metadata": {},
   "outputs": [],
   "source": [
    "import yfinance as yf # https://aroussi.com/post/python-yahoo-finance\n",
    "\n",
    "msft = yf.Ticker(\"^GSPC\")\n",
    "\n",
    "hist = msft.history(start=\"2010-01-01\", end=\"2023-12-31\")\n",
    "hist.to_pickle(\"raw.pkl\")"
   ]
  },
  {
   "cell_type": "code",
   "execution_count": null,
   "metadata": {},
   "outputs": [],
   "source": []
  }
 ],
 "metadata": {
  "kernelspec": {
   "display_name": ".venv",
   "language": "python",
   "name": "python3"
  },
  "language_info": {
   "codemirror_mode": {
    "name": "ipython",
    "version": 3
   },
   "file_extension": ".py",
   "mimetype": "text/x-python",
   "name": "python",
   "nbconvert_exporter": "python",
   "pygments_lexer": "ipython3",
   "version": "3.11.4"
  }
 },
 "nbformat": 4,
 "nbformat_minor": 2
}
